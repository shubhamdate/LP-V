{
 "cells": [
  {
   "attachments": {},
   "cell_type": "markdown",
   "metadata": {},
   "source": [
    "# GoogleStock Prediction Using RNN"
   ]
  },
  {
   "cell_type": "code",
   "execution_count": 1,
   "metadata": {},
   "outputs": [],
   "source": [
    "import numpy as np\n",
    "import pandas as pd\n",
    "import matplotlib.pyplot as plt"
   ]
  },
  {
   "cell_type": "code",
   "execution_count": 2,
   "metadata": {},
   "outputs": [],
   "source": [
    "train_df = pd.read_csv(\"GoogleStockPrice_Train.csv\")\n",
    "test_df = pd.read_csv(\"GoogleStockPrice_Test.csv\")"
   ]
  },
  {
   "cell_type": "code",
   "execution_count": 3,
   "metadata": {},
   "outputs": [
    {
     "data": {
      "text/html": [
       "<div>\n",
       "<style scoped>\n",
       "    .dataframe tbody tr th:only-of-type {\n",
       "        vertical-align: middle;\n",
       "    }\n",
       "\n",
       "    .dataframe tbody tr th {\n",
       "        vertical-align: top;\n",
       "    }\n",
       "\n",
       "    .dataframe thead th {\n",
       "        text-align: right;\n",
       "    }\n",
       "</style>\n",
       "<table border=\"1\" class=\"dataframe\">\n",
       "  <thead>\n",
       "    <tr style=\"text-align: right;\">\n",
       "      <th></th>\n",
       "      <th>Date</th>\n",
       "      <th>Open</th>\n",
       "      <th>High</th>\n",
       "      <th>Low</th>\n",
       "      <th>Close</th>\n",
       "      <th>Volume</th>\n",
       "    </tr>\n",
       "  </thead>\n",
       "  <tbody>\n",
       "    <tr>\n",
       "      <th>0</th>\n",
       "      <td>1/3/2012</td>\n",
       "      <td>325.25</td>\n",
       "      <td>332.83</td>\n",
       "      <td>324.97</td>\n",
       "      <td>663.59</td>\n",
       "      <td>7,380,500</td>\n",
       "    </tr>\n",
       "    <tr>\n",
       "      <th>1</th>\n",
       "      <td>1/4/2012</td>\n",
       "      <td>331.27</td>\n",
       "      <td>333.87</td>\n",
       "      <td>329.08</td>\n",
       "      <td>666.45</td>\n",
       "      <td>5,749,400</td>\n",
       "    </tr>\n",
       "    <tr>\n",
       "      <th>2</th>\n",
       "      <td>1/5/2012</td>\n",
       "      <td>329.83</td>\n",
       "      <td>330.75</td>\n",
       "      <td>326.89</td>\n",
       "      <td>657.21</td>\n",
       "      <td>6,590,300</td>\n",
       "    </tr>\n",
       "    <tr>\n",
       "      <th>3</th>\n",
       "      <td>1/6/2012</td>\n",
       "      <td>328.34</td>\n",
       "      <td>328.77</td>\n",
       "      <td>323.68</td>\n",
       "      <td>648.24</td>\n",
       "      <td>5,405,900</td>\n",
       "    </tr>\n",
       "    <tr>\n",
       "      <th>4</th>\n",
       "      <td>1/9/2012</td>\n",
       "      <td>322.04</td>\n",
       "      <td>322.29</td>\n",
       "      <td>309.46</td>\n",
       "      <td>620.76</td>\n",
       "      <td>11,688,800</td>\n",
       "    </tr>\n",
       "  </tbody>\n",
       "</table>\n",
       "</div>"
      ],
      "text/plain": [
       "       Date    Open    High     Low   Close      Volume\n",
       "0  1/3/2012  325.25  332.83  324.97  663.59   7,380,500\n",
       "1  1/4/2012  331.27  333.87  329.08  666.45   5,749,400\n",
       "2  1/5/2012  329.83  330.75  326.89  657.21   6,590,300\n",
       "3  1/6/2012  328.34  328.77  323.68  648.24   5,405,900\n",
       "4  1/9/2012  322.04  322.29  309.46  620.76  11,688,800"
      ]
     },
     "execution_count": 3,
     "metadata": {},
     "output_type": "execute_result"
    }
   ],
   "source": [
    "train_df.head()"
   ]
  },
  {
   "cell_type": "code",
   "execution_count": 4,
   "metadata": {},
   "outputs": [
    {
     "data": {
      "text/html": [
       "<div>\n",
       "<style scoped>\n",
       "    .dataframe tbody tr th:only-of-type {\n",
       "        vertical-align: middle;\n",
       "    }\n",
       "\n",
       "    .dataframe tbody tr th {\n",
       "        vertical-align: top;\n",
       "    }\n",
       "\n",
       "    .dataframe thead th {\n",
       "        text-align: right;\n",
       "    }\n",
       "</style>\n",
       "<table border=\"1\" class=\"dataframe\">\n",
       "  <thead>\n",
       "    <tr style=\"text-align: right;\">\n",
       "      <th></th>\n",
       "      <th>count</th>\n",
       "      <th>mean</th>\n",
       "      <th>std</th>\n",
       "      <th>min</th>\n",
       "      <th>25%</th>\n",
       "      <th>50%</th>\n",
       "      <th>75%</th>\n",
       "      <th>max</th>\n",
       "    </tr>\n",
       "  </thead>\n",
       "  <tbody>\n",
       "    <tr>\n",
       "      <th>Open</th>\n",
       "      <td>1258.0</td>\n",
       "      <td>533.709833</td>\n",
       "      <td>151.904442</td>\n",
       "      <td>279.12</td>\n",
       "      <td>404.115</td>\n",
       "      <td>537.47</td>\n",
       "      <td>654.9225</td>\n",
       "      <td>816.68</td>\n",
       "    </tr>\n",
       "    <tr>\n",
       "      <th>High</th>\n",
       "      <td>1258.0</td>\n",
       "      <td>537.880223</td>\n",
       "      <td>153.008811</td>\n",
       "      <td>281.21</td>\n",
       "      <td>406.765</td>\n",
       "      <td>540.75</td>\n",
       "      <td>662.5875</td>\n",
       "      <td>816.68</td>\n",
       "    </tr>\n",
       "    <tr>\n",
       "      <th>Low</th>\n",
       "      <td>1258.0</td>\n",
       "      <td>529.007409</td>\n",
       "      <td>150.552807</td>\n",
       "      <td>277.22</td>\n",
       "      <td>401.765</td>\n",
       "      <td>532.99</td>\n",
       "      <td>644.8000</td>\n",
       "      <td>805.14</td>\n",
       "    </tr>\n",
       "  </tbody>\n",
       "</table>\n",
       "</div>"
      ],
      "text/plain": [
       "       count        mean         std     min      25%     50%       75%  \\\n",
       "Open  1258.0  533.709833  151.904442  279.12  404.115  537.47  654.9225   \n",
       "High  1258.0  537.880223  153.008811  281.21  406.765  540.75  662.5875   \n",
       "Low   1258.0  529.007409  150.552807  277.22  401.765  532.99  644.8000   \n",
       "\n",
       "         max  \n",
       "Open  816.68  \n",
       "High  816.68  \n",
       "Low   805.14  "
      ]
     },
     "execution_count": 4,
     "metadata": {},
     "output_type": "execute_result"
    }
   ],
   "source": [
    "train_df.describe().T"
   ]
  },
  {
   "cell_type": "code",
   "execution_count": 5,
   "metadata": {},
   "outputs": [
    {
     "data": {
      "text/plain": [
       "(1258, 6)"
      ]
     },
     "execution_count": 5,
     "metadata": {},
     "output_type": "execute_result"
    }
   ],
   "source": [
    "train_df.shape"
   ]
  },
  {
   "attachments": {},
   "cell_type": "markdown",
   "metadata": {},
   "source": [
    "### Check for Null and Duplicate Values"
   ]
  },
  {
   "cell_type": "code",
   "execution_count": 6,
   "metadata": {},
   "outputs": [
    {
     "data": {
      "text/plain": [
       "Date      0\n",
       "Open      0\n",
       "High      0\n",
       "Low       0\n",
       "Close     0\n",
       "Volume    0\n",
       "dtype: int64"
      ]
     },
     "execution_count": 6,
     "metadata": {},
     "output_type": "execute_result"
    }
   ],
   "source": [
    "train_df.isnull().sum()"
   ]
  },
  {
   "attachments": {},
   "cell_type": "markdown",
   "metadata": {},
   "source": [
    "### Data Visualization"
   ]
  },
  {
   "cell_type": "code",
   "execution_count": 7,
   "metadata": {},
   "outputs": [
    {
     "data": {
      "image/png": "[encoded data removed]",
      "text/plain": [
       "<Figure size 640x480 with 1 Axes>"
      ]
     },
     "metadata": {},
     "output_type": "display_data"
    }
   ],
   "source": [
    "plt.hist(train_df[\"Open\"])\n",
    "plt.show()"
   ]
  },
  {
   "cell_type": "code",
   "execution_count": 8,
   "metadata": {},
   "outputs": [
    {
     "data": {
      "text/plain": [
       "[]"
      ]
     },
     "execution_count": 8,
     "metadata": {},
     "output_type": "execute_result"
    },
    {
     "data": {
      "image/png": "[encoded data removed]",
      "text/plain": [
       "<Figure size 640x480 with 1 Axes>"
      ]
     },
     "metadata": {},
     "output_type": "display_data"
    }
   ],
   "source": [
    "plt.plot(train_df[\"Open\"])\n",
    "plt.plot()"
   ]
  },
  {
   "attachments": {},
   "cell_type": "markdown",
   "metadata": {},
   "source": [
    "### Selecting Opening Price for Time Series"
   ]
  },
  {
   "cell_type": "code",
   "execution_count": 9,
   "metadata": {},
   "outputs": [
    {
     "data": {
      "text/plain": [
       "array([[325.25],\n",
       "       [331.27],\n",
       "       [329.83],\n",
       "       ...,\n",
       "       [793.7 ],\n",
       "       [783.33],\n",
       "       [782.75]])"
      ]
     },
     "execution_count": 9,
     "metadata": {},
     "output_type": "execute_result"
    }
   ],
   "source": [
    "train_df = train_df.loc[:,[\"Open\"]].values\n",
    "train_df"
   ]
  },
  {
   "attachments": {},
   "cell_type": "markdown",
   "metadata": {},
   "source": [
    "### Standardizing the Data"
   ]
  },
  {
   "cell_type": "code",
   "execution_count": 10,
   "metadata": {},
   "outputs": [],
   "source": [
    "from sklearn.preprocessing import MinMaxScaler"
   ]
  },
  {
   "cell_type": "code",
   "execution_count": 11,
   "metadata": {},
   "outputs": [],
   "source": [
    "sc = MinMaxScaler()\n",
    "train_df = sc.fit_transform(train_df)"
   ]
  },
  {
   "cell_type": "code",
   "execution_count": 12,
   "metadata": {},
   "outputs": [
    {
     "data": {
      "text/plain": [
       "array([[0.08581368],\n",
       "       [0.09701243],\n",
       "       [0.09433366],\n",
       "       ...,\n",
       "       [0.95725128],\n",
       "       [0.93796041],\n",
       "       [0.93688146]])"
      ]
     },
     "execution_count": 12,
     "metadata": {},
     "output_type": "execute_result"
    }
   ],
   "source": [
    "train_df"
   ]
  },
  {
   "cell_type": "code",
   "execution_count": 13,
   "metadata": {},
   "outputs": [],
   "source": [
    "X_train = train_df[0:1257]\n",
    "y_train = train_df[1:1258]\n",
    "\n",
    "X_train=np.reshape(X_train, (1257 , 1 , 1))"
   ]
  },
  {
   "cell_type": "code",
   "execution_count": 14,
   "metadata": {},
   "outputs": [
    {
     "data": {
      "text/plain": [
       "array([[[0.08581368]],\n",
       "\n",
       "       [[0.09701243]],\n",
       "\n",
       "       [[0.09433366]],\n",
       "\n",
       "       ...,\n",
       "\n",
       "       [[0.95163331]],\n",
       "\n",
       "       [[0.95725128]],\n",
       "\n",
       "       [[0.93796041]]])"
      ]
     },
     "execution_count": 14,
     "metadata": {},
     "output_type": "execute_result"
    }
   ],
   "source": [
    "X_train"
   ]
  },
  {
   "cell_type": "code",
   "execution_count": 15,
   "metadata": {},
   "outputs": [],
   "source": [
    "from keras.models import Sequential \n",
    "from keras.layers import Dense, LSTM"
   ]
  },
  {
   "cell_type": "code",
   "execution_count": 16,
   "metadata": {},
   "outputs": [],
   "source": [
    "regressor = Sequential()\n",
    "regressor.add(LSTM(units=50, activation=\"sigmoid\", return_sequences=True, input_shape=(None, 1)))\n",
    "regressor.add(LSTM(units=50, activation=\"sigmoid\", return_sequences=True, input_shape=(None, 1)))\n",
    "regressor.add(LSTM(units=50, activation=\"sigmoid\", return_sequences=True, input_shape=(None, 1)))\n",
    "regressor.add(Dense(units=1))"
   ]
  },
  {
   "cell_type": "code",
   "execution_count": 17,
   "metadata": {},
   "outputs": [],
   "source": [
    "regressor.compile(optimizer=\"adam\", loss='mean_squared_error')"
   ]
  },
  {
   "cell_type": "code",
   "execution_count": 18,
   "metadata": {},
   "outputs": [
    {
     "name": "stdout",
     "output_type": "stream",
     "text": [
      "Epoch 1/100\n",
      "40/40 [==============================] - 23s 10ms/step - loss: 0.1047\n",
      "Epoch 2/100\n",
      "40/40 [==============================] - 0s 8ms/step - loss: 0.0801\n",
      "Epoch 3/100\n",
      "40/40 [==============================] - 0s 9ms/step - loss: 0.0798\n",
      "Epoch 4/100\n",
      "40/40 [==============================] - 1s 13ms/step - loss: 0.0797\n",
      "Epoch 5/100\n",
      "40/40 [==============================] - 1s 14ms/step - loss: 0.0795\n",
      "Epoch 6/100\n",
      "40/40 [==============================] - 1s 13ms/step - loss: 0.0791\n",
      "Epoch 7/100\n",
      "40/40 [==============================] - 1s 13ms/step - loss: 0.0788\n",
      "Epoch 8/100\n",
      "40/40 [==============================] - 1s 14ms/step - loss: 0.0770\n",
      "Epoch 9/100\n",
      "40/40 [==============================] - 0s 12ms/step - loss: 0.0747\n",
      "Epoch 10/100\n",
      "40/40 [==============================] - 1s 14ms/step - loss: 0.0708\n",
      "Epoch 11/100\n",
      "40/40 [==============================] - 1s 15ms/step - loss: 0.0634\n",
      "Epoch 12/100\n",
      "40/40 [==============================] - 1s 14ms/step - loss: 0.0531\n",
      "Epoch 13/100\n",
      "40/40 [==============================] - 1s 15ms/step - loss: 0.0331\n",
      "Epoch 14/100\n",
      "40/40 [==============================] - 1s 13ms/step - loss: 0.0122\n",
      "Epoch 15/100\n",
      "40/40 [==============================] - 1s 15ms/step - loss: 0.0018\n",
      "Epoch 16/100\n",
      "40/40 [==============================] - 0s 11ms/step - loss: 4.0079e-04\n",
      "Epoch 17/100\n",
      "40/40 [==============================] - 0s 10ms/step - loss: 3.6604e-04\n",
      "Epoch 18/100\n",
      "40/40 [==============================] - 1s 14ms/step - loss: 3.5604e-04\n",
      "Epoch 19/100\n",
      "40/40 [==============================] - 0s 11ms/step - loss: 3.5641e-04\n",
      "Epoch 20/100\n",
      "40/40 [==============================] - 1s 13ms/step - loss: 3.5741e-04\n",
      "Epoch 21/100\n",
      "40/40 [==============================] - 1s 13ms/step - loss: 3.4032e-04\n",
      "Epoch 22/100\n",
      "40/40 [==============================] - 0s 12ms/step - loss: 3.3786e-04\n",
      "Epoch 23/100\n",
      "40/40 [==============================] - 0s 10ms/step - loss: 3.4539e-04\n",
      "Epoch 24/100\n",
      "40/40 [==============================] - 0s 10ms/step - loss: 3.2498e-04\n",
      "Epoch 25/100\n",
      "40/40 [==============================] - 0s 10ms/step - loss: 3.1626e-04\n",
      "Epoch 26/100\n",
      "40/40 [==============================] - 0s 11ms/step - loss: 3.1088e-04\n",
      "Epoch 27/100\n",
      "40/40 [==============================] - 1s 12ms/step - loss: 3.1873e-04\n",
      "Epoch 28/100\n",
      "40/40 [==============================] - 0s 11ms/step - loss: 3.0874e-04\n",
      "Epoch 29/100\n",
      "40/40 [==============================] - 0s 11ms/step - loss: 2.9773e-04\n",
      "Epoch 30/100\n",
      "40/40 [==============================] - 0s 12ms/step - loss: 3.1632e-04\n",
      "Epoch 31/100\n",
      "40/40 [==============================] - 0s 9ms/step - loss: 2.9214e-04\n",
      "Epoch 32/100\n",
      "40/40 [==============================] - 0s 11ms/step - loss: 2.9369e-04\n",
      "Epoch 33/100\n",
      "40/40 [==============================] - 0s 10ms/step - loss: 2.9068e-04\n",
      "Epoch 34/100\n",
      "40/40 [==============================] - 0s 8ms/step - loss: 3.2457e-04\n",
      "Epoch 35/100\n",
      "40/40 [==============================] - 0s 10ms/step - loss: 3.0284e-04\n",
      "Epoch 36/100\n",
      "40/40 [==============================] - 1s 17ms/step - loss: 2.8292e-04\n",
      "Epoch 37/100\n",
      "40/40 [==============================] - 0s 12ms/step - loss: 3.0561e-04\n",
      "Epoch 38/100\n",
      "40/40 [==============================] - 1s 13ms/step - loss: 2.9034e-04\n",
      "Epoch 39/100\n",
      "40/40 [==============================] - 0s 11ms/step - loss: 2.7978e-04\n",
      "Epoch 40/100\n",
      "40/40 [==============================] - 0s 10ms/step - loss: 2.8603e-04\n",
      "Epoch 41/100\n",
      "40/40 [==============================] - 1s 13ms/step - loss: 2.9464e-04\n",
      "Epoch 42/100\n",
      "40/40 [==============================] - 0s 12ms/step - loss: 2.7617e-04\n",
      "Epoch 43/100\n",
      "40/40 [==============================] - 1s 14ms/step - loss: 2.7104e-04\n",
      "Epoch 44/100\n",
      "40/40 [==============================] - 1s 17ms/step - loss: 2.8391e-04\n",
      "Epoch 45/100\n",
      "40/40 [==============================] - 1s 13ms/step - loss: 2.8827e-04\n",
      "Epoch 46/100\n",
      "40/40 [==============================] - 1s 13ms/step - loss: 3.1964e-04\n",
      "Epoch 47/100\n",
      "40/40 [==============================] - 0s 12ms/step - loss: 2.8185e-04\n",
      "Epoch 48/100\n",
      "40/40 [==============================] - 1s 14ms/step - loss: 2.8856e-04\n",
      "Epoch 49/100\n",
      "40/40 [==============================] - 1s 13ms/step - loss: 2.8677e-04\n",
      "Epoch 50/100\n",
      "40/40 [==============================] - 1s 12ms/step - loss: 2.8438e-04\n",
      "Epoch 51/100\n",
      "40/40 [==============================] - 1s 18ms/step - loss: 2.7871e-04\n",
      "Epoch 52/100\n",
      "40/40 [==============================] - 1s 15ms/step - loss: 3.1828e-04\n",
      "Epoch 53/100\n",
      "40/40 [==============================] - 0s 12ms/step - loss: 2.7443e-04\n",
      "Epoch 54/100\n",
      "40/40 [==============================] - 1s 15ms/step - loss: 2.7644e-04\n",
      "Epoch 55/100\n",
      "40/40 [==============================] - 1s 19ms/step - loss: 2.8421e-04\n",
      "Epoch 56/100\n",
      "40/40 [==============================] - 1s 14ms/step - loss: 2.9132e-04\n",
      "Epoch 57/100\n",
      "40/40 [==============================] - 1s 12ms/step - loss: 3.1008e-04\n",
      "Epoch 58/100\n",
      "40/40 [==============================] - 1s 13ms/step - loss: 2.7741e-04\n",
      "Epoch 59/100\n",
      "40/40 [==============================] - 1s 15ms/step - loss: 2.9413e-04\n",
      "Epoch 60/100\n",
      "40/40 [==============================] - 1s 19ms/step - loss: 3.2435e-04\n",
      "Epoch 61/100\n",
      "40/40 [==============================] - 1s 14ms/step - loss: 2.6395e-04\n",
      "Epoch 62/100\n",
      "40/40 [==============================] - 1s 12ms/step - loss: 2.6388e-04\n",
      "Epoch 63/100\n",
      "40/40 [==============================] - 1s 15ms/step - loss: 2.9253e-04\n",
      "Epoch 64/100\n",
      "40/40 [==============================] - 0s 12ms/step - loss: 2.6599e-04\n",
      "Epoch 65/100\n",
      "40/40 [==============================] - 1s 17ms/step - loss: 2.7804e-04\n",
      "Epoch 66/100\n",
      "40/40 [==============================] - 1s 14ms/step - loss: 2.8131e-04\n",
      "Epoch 67/100\n",
      "40/40 [==============================] - 1s 18ms/step - loss: 3.1291e-04\n",
      "Epoch 68/100\n",
      "40/40 [==============================] - 1s 16ms/step - loss: 2.8713e-04\n",
      "Epoch 69/100\n",
      "40/40 [==============================] - 1s 15ms/step - loss: 2.7841e-04\n",
      "Epoch 70/100\n",
      "40/40 [==============================] - 1s 13ms/step - loss: 2.7521e-04\n",
      "Epoch 71/100\n",
      "40/40 [==============================] - 0s 12ms/step - loss: 3.1188e-04\n",
      "Epoch 72/100\n",
      "40/40 [==============================] - 0s 11ms/step - loss: 2.6123e-04\n",
      "Epoch 73/100\n",
      "40/40 [==============================] - 0s 12ms/step - loss: 2.6793e-04\n",
      "Epoch 74/100\n",
      "40/40 [==============================] - 0s 11ms/step - loss: 2.6530e-04\n",
      "Epoch 75/100\n",
      "40/40 [==============================] - 1s 13ms/step - loss: 2.6388e-04\n",
      "Epoch 76/100\n",
      "40/40 [==============================] - 0s 11ms/step - loss: 2.7358e-04\n",
      "Epoch 77/100\n",
      "40/40 [==============================] - 1s 16ms/step - loss: 2.9704e-04\n",
      "Epoch 78/100\n",
      "40/40 [==============================] - 1s 14ms/step - loss: 2.7769e-04\n",
      "Epoch 79/100\n",
      "40/40 [==============================] - 1s 13ms/step - loss: 2.9651e-04\n",
      "Epoch 80/100\n",
      "40/40 [==============================] - 0s 11ms/step - loss: 3.0595e-04\n",
      "Epoch 81/100\n",
      "40/40 [==============================] - 0s 11ms/step - loss: 2.7563e-04\n",
      "Epoch 82/100\n",
      "40/40 [==============================] - 0s 10ms/step - loss: 3.0926e-04\n",
      "Epoch 83/100\n",
      "40/40 [==============================] - 0s 13ms/step - loss: 2.8224e-04\n",
      "Epoch 84/100\n",
      "40/40 [==============================] - 1s 13ms/step - loss: 2.7432e-04\n",
      "Epoch 85/100\n",
      "40/40 [==============================] - 1s 14ms/step - loss: 2.6518e-04\n",
      "Epoch 86/100\n",
      "40/40 [==============================] - 1s 13ms/step - loss: 3.4723e-04\n",
      "Epoch 87/100\n",
      "40/40 [==============================] - 1s 15ms/step - loss: 2.7943e-04\n",
      "Epoch 88/100\n",
      "40/40 [==============================] - 1s 15ms/step - loss: 2.7062e-04\n",
      "Epoch 89/100\n",
      "40/40 [==============================] - 0s 12ms/step - loss: 2.9933e-04\n",
      "Epoch 90/100\n",
      "40/40 [==============================] - 1s 13ms/step - loss: 3.1263e-04\n",
      "Epoch 91/100\n",
      "40/40 [==============================] - 1s 14ms/step - loss: 2.7852e-04\n",
      "Epoch 92/100\n",
      "40/40 [==============================] - 1s 14ms/step - loss: 3.1585e-04\n",
      "Epoch 93/100\n",
      "40/40 [==============================] - 1s 15ms/step - loss: 2.8107e-04\n",
      "Epoch 94/100\n",
      "40/40 [==============================] - 1s 15ms/step - loss: 2.8470e-04\n",
      "Epoch 95/100\n",
      "40/40 [==============================] - 1s 14ms/step - loss: 2.7671e-04\n",
      "Epoch 96/100\n",
      "40/40 [==============================] - 1s 14ms/step - loss: 3.1570e-04\n",
      "Epoch 97/100\n",
      "40/40 [==============================] - 0s 10ms/step - loss: 3.4382e-04\n",
      "Epoch 98/100\n",
      "40/40 [==============================] - 0s 10ms/step - loss: 2.7429e-04\n",
      "Epoch 99/100\n",
      "40/40 [==============================] - 0s 10ms/step - loss: 3.4813e-04\n",
      "Epoch 100/100\n",
      "40/40 [==============================] - 0s 10ms/step - loss: 3.0975e-04\n"
     ]
    },
    {
     "data": {
      "text/plain": [
       "<keras.callbacks.History at 0x23f18e972d0>"
      ]
     },
     "execution_count": 18,
     "metadata": {},
     "output_type": "execute_result"
    }
   ],
   "source": [
    "regressor.fit(X_train, y_train, batch_size=32, epochs=100)"
   ]
  },
  {
   "attachments": {},
   "cell_type": "markdown",
   "metadata": {},
   "source": [
    "### Import Test Data"
   ]
  },
  {
   "cell_type": "code",
   "execution_count": 19,
   "metadata": {},
   "outputs": [],
   "source": [
    "test_set = pd.read_csv('GoogleStockPrice_Test.csv')\n",
    "real_stock_price = test_set.iloc[:, 1:2].values\n"
   ]
  },
  {
   "cell_type": "code",
   "execution_count": 20,
   "metadata": {},
   "outputs": [
    {
     "data": {
      "text/plain": [
       "array([[778.81],\n",
       "       [788.36],\n",
       "       [786.08],\n",
       "       [795.26],\n",
       "       [806.4 ],\n",
       "       [807.86],\n",
       "       [805.  ],\n",
       "       [807.14],\n",
       "       [807.48],\n",
       "       [807.08],\n",
       "       [805.81],\n",
       "       [805.12],\n",
       "       [806.91],\n",
       "       [807.25],\n",
       "       [822.3 ],\n",
       "       [829.62],\n",
       "       [837.81],\n",
       "       [834.71],\n",
       "       [814.66],\n",
       "       [796.86]])"
      ]
     },
     "execution_count": 20,
     "metadata": {},
     "output_type": "execute_result"
    }
   ],
   "source": [
    "real_stock_price"
   ]
  },
  {
   "attachments": {},
   "cell_type": "markdown",
   "metadata": {},
   "source": [
    "### Scale Down the test data"
   ]
  },
  {
   "cell_type": "code",
   "execution_count": 21,
   "metadata": {},
   "outputs": [],
   "source": [
    "inputs = real_stock_price\n",
    "inputs = sc.transform(inputs)"
   ]
  },
  {
   "cell_type": "code",
   "execution_count": 22,
   "metadata": {},
   "outputs": [
    {
     "data": {
      "text/plain": [
       "array([[0.92955205],\n",
       "       [0.94731751],\n",
       "       [0.94307612],\n",
       "       [0.96015329],\n",
       "       [0.98087655],\n",
       "       [0.98359253],\n",
       "       [0.97827219],\n",
       "       [0.98225314],\n",
       "       [0.98288563],\n",
       "       [0.98214153],\n",
       "       [0.979779  ],\n",
       "       [0.97849542],\n",
       "       [0.98182528],\n",
       "       [0.98245777],\n",
       "       [1.01045465],\n",
       "       [1.02407173],\n",
       "       [1.03930724],\n",
       "       [1.03354044],\n",
       "       [0.99624228],\n",
       "       [0.9631297 ]])"
      ]
     },
     "execution_count": 22,
     "metadata": {},
     "output_type": "execute_result"
    }
   ],
   "source": [
    "inputs"
   ]
  },
  {
   "cell_type": "code",
   "execution_count": 23,
   "metadata": {},
   "outputs": [],
   "source": [
    "inputs = np.reshape(inputs, (20, 1, 1))"
   ]
  },
  {
   "cell_type": "code",
   "execution_count": 24,
   "metadata": {},
   "outputs": [
    {
     "name": "stdout",
     "output_type": "stream",
     "text": [
      "1/1 [==============================] - 2s 2s/step\n"
     ]
    }
   ],
   "source": [
    "predicted_stock_price = regressor.predict(inputs)"
   ]
  },
  {
   "cell_type": "code",
   "execution_count": 25,
   "metadata": {},
   "outputs": [
    {
     "data": {
      "text/plain": [
       "array([[[0.91719306]],\n",
       "\n",
       "       [[0.93312776]],\n",
       "\n",
       "       [[0.9293391 ]],\n",
       "\n",
       "       [[0.94453484]],\n",
       "\n",
       "       [[0.96275955]],\n",
       "\n",
       "       [[0.9651302 ]],\n",
       "\n",
       "       [[0.96048236]],\n",
       "\n",
       "       [[0.96396154]],\n",
       "\n",
       "       [[0.9645136 ]],\n",
       "\n",
       "       [[0.96386427]],\n",
       "\n",
       "       [[0.9618005 ]],\n",
       "\n",
       "       [[0.9606776 ]],\n",
       "\n",
       "       [[0.96358824]],\n",
       "\n",
       "       [[0.9641402 ]],\n",
       "\n",
       "       [[0.9883531 ]],\n",
       "\n",
       "       [[0.99996686]],\n",
       "\n",
       "       [[1.012833  ]],\n",
       "\n",
       "       [[1.0079792 ]],\n",
       "\n",
       "       [[0.97611743]],\n",
       "\n",
       "       [[0.9471671 ]]], dtype=float32)"
      ]
     },
     "execution_count": 25,
     "metadata": {},
     "output_type": "execute_result"
    }
   ],
   "source": [
    "predicted_stock_price"
   ]
  },
  {
   "cell_type": "code",
   "execution_count": 26,
   "metadata": {},
   "outputs": [],
   "source": [
    "pred_price = np.reshape(predicted_stock_price, (20, 1))"
   ]
  },
  {
   "cell_type": "code",
   "execution_count": 27,
   "metadata": {},
   "outputs": [],
   "source": [
    "pred_price = sc.inverse_transform(pred_price)"
   ]
  },
  {
   "cell_type": "code",
   "execution_count": 28,
   "metadata": {},
   "outputs": [
    {
     "data": {
      "text/plain": [
       "array([[772.16626],\n",
       "       [780.7321 ],\n",
       "       [778.69556],\n",
       "       [786.86414],\n",
       "       [796.661  ],\n",
       "       [797.93536],\n",
       "       [795.4369 ],\n",
       "       [797.3072 ],\n",
       "       [797.60394],\n",
       "       [797.2549 ],\n",
       "       [796.1455 ],\n",
       "       [795.5418 ],\n",
       "       [797.10645],\n",
       "       [797.4032 ],\n",
       "       [810.41907],\n",
       "       [816.6622 ],\n",
       "       [823.5785 ],\n",
       "       [820.96924],\n",
       "       [803.8417 ],\n",
       "       [788.2792 ]], dtype=float32)"
      ]
     },
     "execution_count": 28,
     "metadata": {},
     "output_type": "execute_result"
    }
   ],
   "source": [
    "pred_price"
   ]
  },
  {
   "cell_type": "code",
   "execution_count": 29,
   "metadata": {},
   "outputs": [
    {
     "data": {
      "image/png": "[encoded data removed]",
      "text/plain": [
       "<Figure size 640x480 with 1 Axes>"
      ]
     },
     "metadata": {},
     "output_type": "display_data"
    }
   ],
   "source": [
    "plt.plot( real_stock_price , color = 'red' , label = 'Real Google Stock Price')\n",
    "plt.plot(pred_price, color='blue', label='Predicted Google Stock Price')\n",
    "plt.title('Google Stock Price Prediction')\n",
    "plt.xlabel( 'time' )\n",
    "plt.ylabel( 'Google Stock Price' )\n",
    "plt.legend()\n",
    "plt.show()"
   ]
  },
  {
   "cell_type": "code",
   "execution_count": null,
   "metadata": {},
   "outputs": [],
   "source": []
  },
  {
   "cell_type": "code",
   "execution_count": null,
   "metadata": {},
   "outputs": [],
   "source": []
  }
 ],
 "metadata": {
  "kernelspec": {
   "display_name": "Python 3",
   "language": "python",
   "name": "python3"
  },
  "language_info": {
   "codemirror_mode": {
    "name": "ipython",
    "version": 3
   },
   "file_extension": ".py",
   "mimetype": "text/x-python",
   "name": "python",
   "nbconvert_exporter": "python",
   "pygments_lexer": "ipython3",
   "version": "3.11.1"
  },
  "orig_nbformat": 4
 },
 "nbformat": 4,
 "nbformat_minor": 2
}
